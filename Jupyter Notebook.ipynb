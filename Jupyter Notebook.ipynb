{
 "cells": [
  {
   "cell_type": "markdown",
   "metadata": {},
   "source": [
    "### Twitter User-Account Analysis Using Specific Keywords "
   ]
  },
  {
   "cell_type": "code",
   "execution_count": 1,
   "metadata": {
    "scrolled": true
   },
   "outputs": [
    {
     "name": "stdout",
     "output_type": "stream",
     "text": [
      "Collecting tweepy\n",
      "  Downloading tweepy-4.4.0-py2.py3-none-any.whl (65 kB)\n",
      "Requirement already satisfied: requests<3,>=2.11.1 in c:\\users\\shubh\\anaconda3\\lib\\site-packages (from tweepy) (2.22.0)\n",
      "Collecting requests-oauthlib<2,>=1.0.0\n",
      "  Downloading requests_oauthlib-1.3.0-py2.py3-none-any.whl (23 kB)\n",
      "Requirement already satisfied: urllib3!=1.25.0,!=1.25.1,<1.26,>=1.21.1 in c:\\users\\shubh\\anaconda3\\lib\\site-packages (from requests<3,>=2.11.1->tweepy) (1.25.8)\n",
      "Requirement already satisfied: certifi>=2017.4.17 in c:\\users\\shubh\\anaconda3\\lib\\site-packages (from requests<3,>=2.11.1->tweepy) (2019.11.28)\n",
      "Requirement already satisfied: chardet<3.1.0,>=3.0.2 in c:\\users\\shubh\\anaconda3\\lib\\site-packages (from requests<3,>=2.11.1->tweepy) (3.0.4)\n",
      "Requirement already satisfied: idna<2.9,>=2.5 in c:\\users\\shubh\\anaconda3\\lib\\site-packages (from requests<3,>=2.11.1->tweepy) (2.8)\n",
      "Collecting oauthlib>=3.0.0\n",
      "  Downloading oauthlib-3.1.1-py2.py3-none-any.whl (146 kB)\n",
      "Installing collected packages: oauthlib, requests-oauthlib, tweepy\n",
      "Successfully installed oauthlib-3.1.1 requests-oauthlib-1.3.0 tweepy-4.4.0\n"
     ]
    }
   ],
   "source": [
    "!pip install tweepy"
   ]
  },
  {
   "cell_type": "code",
   "execution_count": 2,
   "metadata": {},
   "outputs": [],
   "source": [
    "import tweepy\n",
    "import pandas as pd"
   ]
  },
  {
   "cell_type": "code",
   "execution_count": 10,
   "metadata": {},
   "outputs": [],
   "source": [
    "consumer_key=\"**********************\"\n",
    "consumer_secret=\"**********************\"\n",
    "access_token=\"**********************\"\n",
    "access_token_secret=\"**********************\""
   ]
  },
  {
   "cell_type": "code",
   "execution_count": 11,
   "metadata": {},
   "outputs": [],
   "source": [
    "auth=tweepy.OAuthHandler(consumer_key,consumer_secret)\n",
    "auth.set_access_token(access_token,access_token_secret)\n",
    "api=tweepy.API(auth)"
   ]
  },
  {
   "cell_type": "code",
   "execution_count": 156,
   "metadata": {},
   "outputs": [],
   "source": [
    "alllist=[]\n",
    "UserList=[]"
   ]
  },
  {
   "cell_type": "code",
   "execution_count": 157,
   "metadata": {},
   "outputs": [
    {
     "name": "stderr",
     "output_type": "stream",
     "text": [
      "Unexpected parameter: Since\n",
      "Unexpected parameter: Since\n",
      "Unexpected parameter: Since\n",
      "Unexpected parameter: Since\n",
      "Unexpected parameter: Since\n",
      "Unexpected parameter: Since\n",
      "Unexpected parameter: Since\n"
     ]
    }
   ],
   "source": [
    "ids = set()\n",
    "tweets=tweepy.Cursor(api.search_tweets, q=\"tobacco\", Since=\"2016-08-09\", lang=\"en\").items(100)\n",
    "\n",
    "for tweet in tweets:   \n",
    "    if (not tweet.retweeted) and ('RT @' not in tweet.text):\n",
    "        #print(tweet.user.screen_name, tweet.retweet_count, tweet.id)\n",
    "        UserList.append(tweet.user.screen_name)"
   ]
  },
  {
   "cell_type": "code",
   "execution_count": 159,
   "metadata": {},
   "outputs": [
    {
     "name": "stderr",
     "output_type": "stream",
     "text": [
      "Unexpected parameter: Since\n",
      "Unexpected parameter: Since\n",
      "Unexpected parameter: Since\n",
      "Unexpected parameter: Since\n",
      "Unexpected parameter: Since\n",
      "Unexpected parameter: Since\n",
      "Unexpected parameter: Since\n"
     ]
    }
   ],
   "source": [
    "ids = set()\n",
    "tweets=tweepy.Cursor(api.search_tweets, q=\"Carcinogens\", Since=\"2016-08-09\", lang=\"en\").items(100)\n",
    "\n",
    "for tweet in tweets:   \n",
    "    if (not tweet.retweeted) and ('RT @' not in tweet.text):\n",
    "        #print(tweet.user.screen_name, tweet.retweet_count, tweet.id)\n",
    "        UserList.append(tweet.user.screen_name)"
   ]
  },
  {
   "cell_type": "code",
   "execution_count": 161,
   "metadata": {},
   "outputs": [
    {
     "name": "stderr",
     "output_type": "stream",
     "text": [
      "Unexpected parameter: Since\n",
      "Unexpected parameter: Since\n",
      "Unexpected parameter: Since\n",
      "Unexpected parameter: Since\n",
      "Unexpected parameter: Since\n",
      "Unexpected parameter: Since\n",
      "Unexpected parameter: Since\n",
      "Unexpected parameter: Since\n",
      "Unexpected parameter: Since\n"
     ]
    }
   ],
   "source": [
    "ids = set()\n",
    "tweets=tweepy.Cursor(api.search_tweets, q=\"toxicology\", Since=\"2016-08-09\", lang=\"en\").items(100)\n",
    "\n",
    "for tweet in tweets:   \n",
    "    if (not tweet.retweeted) and ('RT @' not in tweet.text):\n",
    "        #print(tweet.user.screen_name, tweet.retweet_count, tweet.id)\n",
    "        UserList.append(tweet.user.screen_name) "
   ]
  },
  {
   "cell_type": "code",
   "execution_count": 162,
   "metadata": {},
   "outputs": [
    {
     "name": "stderr",
     "output_type": "stream",
     "text": [
      "Unexpected parameter: Since\n",
      "Unexpected parameter: Since\n"
     ]
    }
   ],
   "source": [
    "ids = set()\n",
    "tweets=tweepy.Cursor(api.search_tweets, q=\"tobacco obsolete\", Since=\"2016-08-09\", lang=\"en\").items(100)\n",
    "\n",
    "for tweet in tweets:   \n",
    "    if (not tweet.retweeted) and ('RT @' not in tweet.text):\n",
    "        #print(tweet.user.screen_name, tweet.retweet_count, tweet.id)\n",
    "        UserList.append(tweet.user.screen_name)"
   ]
  },
  {
   "cell_type": "code",
   "execution_count": 163,
   "metadata": {},
   "outputs": [
    {
     "name": "stderr",
     "output_type": "stream",
     "text": [
      "Unexpected parameter: Since\n",
      "Unexpected parameter: Since\n",
      "Unexpected parameter: Since\n",
      "Unexpected parameter: Since\n",
      "Unexpected parameter: Since\n",
      "Unexpected parameter: Since\n",
      "Unexpected parameter: Since\n"
     ]
    }
   ],
   "source": [
    "ids = set()\n",
    "tweets=tweepy.Cursor(api.search_tweets, q=\"Nicotine reduction\", Since=\"2016-08-09\", lang=\"en\").items(100)\n",
    "\n",
    "for tweet in tweets:   \n",
    "    if (not tweet.retweeted) and ('RT @' not in tweet.text):\n",
    "        #print(tweet.user.screen_name, tweet.retweet_count, tweet.id)\n",
    "        UserList.append(tweet.user.screen_name)"
   ]
  },
  {
   "cell_type": "code",
   "execution_count": 164,
   "metadata": {},
   "outputs": [
    {
     "name": "stderr",
     "output_type": "stream",
     "text": [
      "Unexpected parameter: Since\n",
      "Unexpected parameter: Since\n",
      "Unexpected parameter: Since\n",
      "Unexpected parameter: Since\n",
      "Unexpected parameter: Since\n",
      "Unexpected parameter: Since\n",
      "Unexpected parameter: Since\n"
     ]
    }
   ],
   "source": [
    "ids = set()\n",
    "tweets=tweepy.Cursor(api.search_tweets, q=\"Tobacco control\", Since=\"2016-08-09\", lang=\"en\").items(100)\n",
    "\n",
    "for tweet in tweets:   \n",
    "    if (not tweet.retweeted) and ('RT @' not in tweet.text):\n",
    "        #print(tweet.user.screen_name, tweet.retweet_count, tweet.id)\n",
    "        UserList.append(tweet.user.screen_name)"
   ]
  },
  {
   "cell_type": "code",
   "execution_count": 165,
   "metadata": {
    "scrolled": true
   },
   "outputs": [
    {
     "name": "stdout",
     "output_type": "stream",
     "text": [
      "LMSBOSSY : 1\n",
      "WashingtonViews : 1\n",
      "antiquelove22 : 1\n",
      "JkDastaan : 2\n",
      "HeadlinesOT : 1\n",
      "PRproBE : 1\n",
      "ChuckLongIsland : 1\n",
      "snowrespecter : 1\n",
      "EricTM3 : 1\n",
      "Amy_Lauren_ : 1\n",
      "mwillemsen27 : 1\n",
      "imhc87 : 1\n",
      "intruwuder : 1\n",
      "VaeVictus9 : 1\n",
      "JOHNPAULMABBS : 1\n",
      "TRKarbaGhallay : 1\n",
      "ThisLandIsGods : 1\n",
      "LawnShock : 1\n",
      "____tshepo : 1\n",
      "ayman_daddy : 1\n",
      "VinodKu07081874 : 1\n",
      "_lehlohonolo_k : 1\n",
      "UKCIA : 1\n",
      "Jason19618678 : 1\n",
      "Priteshagarwals : 1\n",
      "realBirth8 : 1\n",
      "abutxii94 : 1\n",
      "our_yesterdays : 1\n",
      "roderickneal84 : 1\n",
      "copenhenken : 1\n",
      "JohnMor74969633 : 1\n",
      "TobaccoFreeFin : 2\n",
      "nsstvm : 2\n",
      "MThakur27417705 : 1\n",
      "2muzi : 1\n",
      "TobaccoFreeFin : 2\n",
      "nsstvm : 2\n",
      "soulstone1967 : 1\n",
      "N0M0re4 : 1\n",
      "almostwelsh : 1\n",
      "YasiActivist : 1\n",
      "This_is_Nu : 1\n",
      "eventsmasters11 : 1\n",
      "mynameisalexa32 : 1\n",
      "OllieLiterate : 2\n",
      "AndrewW72578161 : 2\n",
      "TheNoughtyGrad : 2\n",
      "DropletsAreFake : 2\n",
      "AnnRing16 : 2\n",
      "AGil2020 : 2\n",
      "AutocalS : 2\n",
      "DStutts205 : 2\n",
      "personaldeejus : 2\n",
      "thissdaus : 2\n",
      "Real_KrisBauman : 2\n",
      "wakaidev : 2\n",
      "OofT74480205 : 2\n",
      "puff_step_daddy : 2\n",
      "DrunkKobold : 2\n",
      "YouMadB11343293 : 2\n",
      "artStuvsSeaton : 2\n",
      "eightykv : 2\n",
      "I_use_Martins : 2\n",
      "yychealthnut : 2\n",
      "mahto69 : 2\n",
      "LungCancer_CNTR : 2\n",
      "VaFirePrograms : 2\n",
      "ElMuggs : 2\n",
      "crypticclue : 2\n",
      "bluelectrons : 2\n",
      "colin_tinker : 2\n",
      "LeifMWright : 2\n",
      "toxchick42 : 2\n",
      "trevrosen : 2\n",
      "HealthyOceanCo : 2\n",
      "unfurIing : 2\n",
      "goodyearfire : 2\n",
      "MociasJaymo : 2\n",
      "DarrylSawatzky : 2\n",
      "StephenMarlin6 : 2\n",
      "AKWhitcraft : 2\n",
      "grist : 2\n",
      "StarvingInMT : 2\n",
      "Mr_Waltersploy : 2\n",
      "chemicalcurious : 2\n",
      "MaddyinMilford : 2\n",
      "debbiez49 : 2\n",
      "bcpffa : 2\n",
      "ERC501c3 : 4\n",
      "josephbwinters : 2\n",
      "ERC501c3 : 4\n",
      "papayagoddess_ : 2\n",
      "mspragmatist : 2\n",
      "WerkHCN : 2\n",
      "EnvHamilton : 2\n",
      "MyrtleBeachFire : 2\n",
      "LMClinical : 2\n",
      "PaulBelme : 2\n",
      "FreeFalling111 : 2\n",
      "timoconnorbl : 2\n",
      "OllieLiterate : 2\n",
      "AndrewW72578161 : 2\n",
      "TheNoughtyGrad : 2\n",
      "DropletsAreFake : 2\n",
      "AnnRing16 : 2\n",
      "AGil2020 : 2\n",
      "AutocalS : 2\n",
      "DStutts205 : 2\n",
      "personaldeejus : 2\n",
      "thissdaus : 2\n",
      "Real_KrisBauman : 2\n",
      "wakaidev : 2\n",
      "OofT74480205 : 2\n",
      "puff_step_daddy : 2\n",
      "DrunkKobold : 2\n",
      "YouMadB11343293 : 2\n",
      "artStuvsSeaton : 2\n",
      "eightykv : 2\n",
      "I_use_Martins : 2\n",
      "yychealthnut : 2\n",
      "mahto69 : 2\n",
      "LungCancer_CNTR : 2\n",
      "VaFirePrograms : 2\n",
      "ElMuggs : 2\n",
      "crypticclue : 2\n",
      "bluelectrons : 2\n",
      "colin_tinker : 2\n",
      "LeifMWright : 2\n",
      "toxchick42 : 2\n",
      "trevrosen : 2\n",
      "HealthyOceanCo : 2\n",
      "unfurIing : 2\n",
      "goodyearfire : 2\n",
      "MociasJaymo : 2\n",
      "DarrylSawatzky : 2\n",
      "StephenMarlin6 : 2\n",
      "AKWhitcraft : 2\n",
      "grist : 2\n",
      "StarvingInMT : 2\n",
      "Mr_Waltersploy : 2\n",
      "chemicalcurious : 2\n",
      "MaddyinMilford : 2\n",
      "debbiez49 : 2\n",
      "bcpffa : 2\n",
      "ERC501c3 : 4\n",
      "josephbwinters : 2\n",
      "ERC501c3 : 4\n",
      "papayagoddess_ : 2\n",
      "mspragmatist : 2\n",
      "WerkHCN : 2\n",
      "EnvHamilton : 2\n",
      "MyrtleBeachFire : 2\n",
      "LMClinical : 2\n",
      "PaulBelme : 2\n",
      "FreeFalling111 : 2\n",
      "timoconnorbl : 2\n",
      "ATCC_LGC : 2\n",
      "DrPenaFernandez : 2\n",
      "yoiexist : 2\n",
      "SjoerdWachter : 2\n",
      "vmr_reports : 2\n",
      "juliewindsor59 : 2\n",
      "mvriaiscvriot : 2\n",
      "Sarahxxsalem : 2\n",
      "positivity_won : 2\n",
      "RhysJuan : 2\n",
      "Thisisjewel : 2\n",
      "scimedia_ : 2\n",
      "Toxicol58864774 : 2\n",
      "SparksAngele : 2\n",
      "angelinaalex041 : 2\n",
      "MortarPestleUSA : 2\n",
      "vanessigh : 2\n",
      "NickJon37862236 : 2\n",
      "carla5291 : 4\n",
      "TheShrimpPimp : 2\n",
      "carla5291 : 4\n",
      "sciencereminder : 2\n",
      "DeppVicki : 2\n",
      "LadyChainsaw : 2\n",
      "ConantGreg : 3\n",
      "ragusajr161 : 2\n",
      "CindyReynolds : 2\n",
      "bcarter0917 : 2\n",
      "BandzzCrypto : 2\n",
      "ToxCast : 2\n",
      "ATCC_LGC : 2\n",
      "DrPenaFernandez : 2\n",
      "yoiexist : 2\n",
      "SjoerdWachter : 2\n",
      "vmr_reports : 2\n",
      "juliewindsor59 : 2\n",
      "mvriaiscvriot : 2\n",
      "Sarahxxsalem : 2\n",
      "positivity_won : 2\n",
      "RhysJuan : 2\n",
      "Thisisjewel : 2\n",
      "scimedia_ : 2\n",
      "Toxicol58864774 : 2\n",
      "SparksAngele : 2\n",
      "angelinaalex041 : 2\n",
      "MortarPestleUSA : 2\n",
      "vanessigh : 2\n",
      "NickJon37862236 : 2\n",
      "carla5291 : 4\n",
      "TheShrimpPimp : 2\n",
      "carla5291 : 4\n",
      "sciencereminder : 2\n",
      "DeppVicki : 2\n",
      "LadyChainsaw : 2\n",
      "ConantGreg : 3\n",
      "ragusajr161 : 2\n",
      "CindyReynolds : 2\n",
      "bcarter0917 : 2\n",
      "BandzzCrypto : 2\n",
      "ToxCast : 2\n",
      "levulose : 1\n",
      "encoast : 1\n",
      "farbachmid : 1\n",
      "rasmd : 1\n",
      "Devsmom521 : 1\n",
      "RealTigreM : 1\n",
      "cityofbirmingha : 1\n",
      "FucktardaryAhoy : 1\n",
      "spinner89 : 1\n",
      "MaryDee63 : 1\n",
      "bsn260179 : 1\n",
      "wsjinames : 1\n",
      "horry_peter : 1\n",
      "poozie43 : 1\n",
      "Steve16798030 : 1\n",
      "dmarknewman : 1\n",
      "Rchev88 : 1\n",
      "GriffCrimInst : 1\n",
      "sniff86793391 : 1\n",
      "Beanhead95 : 1\n",
      "WasteCounter : 1\n",
      "ArmandHerrera5 : 1\n",
      "_ItsJustJAZZ : 3\n",
      "___TOXICology : 4\n",
      "___TOXICology : 4\n",
      "JoshDavid_1776 : 1\n",
      "___TOXICology : 4\n",
      "AlloAre : 1\n",
      "ConantGreg : 3\n",
      "dennisjromero : 1\n",
      "_ItsJustJAZZ : 3\n",
      "___TOXICology : 4\n",
      "Intestinal_Cell : 1\n",
      "Lipstay : 2\n",
      "Lipstay : 2\n",
      "Jawa66923519 : 1\n",
      "_ItsJustJAZZ : 3\n",
      "ChaunceyGardner : 5\n",
      "AlexWodak : 14\n",
      "sweetfifi68 : 1\n",
      "AlexWodak : 14\n",
      "AlexWodak : 14\n",
      "AlexWodak : 14\n",
      "AlexWodak : 14\n",
      "AlexWodak : 14\n",
      "AlexWodak : 14\n",
      "AlexWodak : 14\n",
      "GregTHR : 1\n",
      "EdwardHubert4 : 1\n",
      "AlexWodak : 14\n",
      "AsxGenerator : 1\n",
      "AlexWodak : 14\n",
      "daniel_kotz : 1\n",
      "VaperNt : 1\n",
      "AlexWodak : 14\n",
      "AlexWodak : 14\n",
      "LittleW99300122 : 2\n",
      "Protectaxpayers : 1\n",
      "panthernoster : 1\n",
      "AlexWodak : 14\n",
      "ChaunceyGardner : 5\n",
      "ChaunceyGardner : 5\n",
      "A_iMinami : 1\n",
      "LittleW99300122 : 2\n",
      "PVapes : 1\n",
      "JkDastaan : 2\n",
      "chose_autre : 1\n",
      "EcigClick : 1\n",
      "mathtimms2 : 1\n",
      "ChipTaylor17 : 1\n",
      "bk13051 : 1\n",
      "c3littlefish : 1\n",
      "RGonzalezARD : 1\n",
      "Rawgster : 1\n",
      "gatzblue : 1\n",
      "SonjaMarx9 : 1\n",
      "CCSResearch : 1\n",
      "Gingersnappdonu : 1\n",
      "Sapphir77361432 : 1\n",
      "tofunante : 1\n",
      "michaelcolhoun : 1\n",
      "mark_shapley : 1\n",
      "UWaterloo : 1\n",
      "LLacasseACSCAN : 1\n",
      "motac : 1\n",
      "Antifragile_Mnd : 1\n",
      "FCTCofficial : 1\n",
      "AsianTrader : 1\n",
      "fristachinator : 1\n",
      "ChaunceyGardner : 5\n",
      "lekh27 : 1\n",
      "NNAlliance : 1\n",
      "FDATobacco : 1\n",
      "AlexWodak : 14\n",
      "Mirte_Kuipers : 1\n",
      "DistrictDoda : 1\n",
      "phsu54 : 1\n",
      "ChaunceyGardner : 5\n",
      "TheUnion_TBLH : 1\n",
      "thetribunechd : 1\n",
      "greenlifeagro : 1\n"
     ]
    }
   ],
   "source": [
    "unique_users = set(UserList)\n",
    "for user in UserList:\n",
    "    print(user,':',UserList.count(user))"
   ]
  },
  {
   "cell_type": "code",
   "execution_count": 166,
   "metadata": {},
   "outputs": [],
   "source": [
    "df=pd.DataFrame(alllist, columns=['user'])"
   ]
  },
  {
   "cell_type": "code",
   "execution_count": 167,
   "metadata": {},
   "outputs": [
    {
     "data": {
      "text/plain": [
       "AlexWodak          14\n",
       "ChaunceyGardner     5\n",
       "___TOXICology       4\n",
       "carla5291           4\n",
       "ERC501c3            4\n",
       "                   ..\n",
       "YasiActivist        1\n",
       "UWaterloo           1\n",
       "EricTM3             1\n",
       "Mirte_Kuipers       1\n",
       "Intestinal_Cell     1\n",
       "Name: user, Length: 201, dtype: int64"
      ]
     },
     "execution_count": 167,
     "metadata": {},
     "output_type": "execute_result"
    }
   ],
   "source": [
    "df['user'].value_counts()"
   ]
  },
  {
   "cell_type": "code",
   "execution_count": null,
   "metadata": {},
   "outputs": [],
   "source": []
  }
 ],
 "metadata": {
  "kernelspec": {
   "display_name": "Python 3",
   "language": "python",
   "name": "python3"
  },
  "language_info": {
   "codemirror_mode": {
    "name": "ipython",
    "version": 3
   },
   "file_extension": ".py",
   "mimetype": "text/x-python",
   "name": "python",
   "nbconvert_exporter": "python",
   "pygments_lexer": "ipython3",
   "version": "3.7.6"
  }
 },
 "nbformat": 4,
 "nbformat_minor": 4
}
